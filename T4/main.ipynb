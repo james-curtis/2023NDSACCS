{
 "cells": [
  {
   "cell_type": "code",
   "execution_count": 1,
   "metadata": {
    "collapsed": true,
    "ExecuteTime": {
     "end_time": "2023-06-15T23:48:08.349815200Z",
     "start_time": "2023-06-15T23:48:07.848815Z"
    }
   },
   "outputs": [],
   "source": [
    "import pandas as pd\n",
    "import numpy as np\n",
    "import seaborn as sns\n",
    "import matplotlib.pyplot as plt\n",
    "import os\n",
    "import tqdm\n",
    "import re\n",
    "import librosa\n",
    "from imblearn.combine import *\n",
    "from sklearn import preprocessing\n",
    "from sklearn.model_selection import *\n",
    "from sklearn.metrics import *\n",
    "from sklearn import svm\n",
    "from sklearn import linear_model\n",
    "import scipy\n",
    "from util import convertEMF\n",
    "import pywt\n",
    "\n",
    "plt.rcParams['font.sans-serif'] = ['SimHei']  # 黑体\n",
    "plt.rcParams['axes.unicode_minus'] = False  # 解决无法显示符号的问题\n",
    "palette = 'deep'\n",
    "sns.set(font='SimHei', font_scale=1.2, palette=palette)  # 解决Seaborn中文显示问题"
   ]
  },
  {
   "cell_type": "code",
   "execution_count": 2,
   "outputs": [
    {
     "data": {
      "text/plain": "      Country name  Year  Population  \\\n0      Afghanistan  1950     7480464   \n1      Afghanistan  1951     7571542   \n2      Afghanistan  1952     7667534   \n3      Afghanistan  1953     7764549   \n4      Afghanistan  1954     7864289   \n...            ...   ...         ...   \n18067     Zimbabwe  2017    14751101   \n18068     Zimbabwe  2018    15052191   \n18069     Zimbabwe  2019    15354606   \n18070     Zimbabwe  2020    15669663   \n18071     Zimbabwe  2021    15993525   \n\n       Population of children under the age of 1  \\\n0                                       301735.0   \n1                                       299368.0   \n2                                       305393.0   \n3                                       311574.0   \n4                                       317584.0   \n...                                          ...   \n18067                                   464521.0   \n18068                                   466524.0   \n18069                                   468844.0   \n18070                                   470340.0   \n18071                                   472443.0   \n\n       Population of children under the age of 5  \\\n0                                        1248282   \n1                                        1246857   \n2                                        1248220   \n3                                        1254725   \n4                                        1267817   \n...                                          ...   \n18067                                    2287404   \n18068                                    2283576   \n18069                                    2281740   \n18070                                    2287105   \n18071                                    2299712   \n\n       Population of children under the age of 15  \\\n0                                         3068855   \n1                                         3105444   \n2                                         3145070   \n3                                         3186382   \n4                                         3231060   \n...                                           ...   \n18067                                     6217928   \n18068                                     6291632   \n18069                                     6367398   \n18070                                     6449021   \n18071                                     6540282   \n\n       Population under the age of 25  Population aged 15 to 64 years  \\\n0                             4494349                         4198587   \n1                             4552138                         4250002   \n2                             4613604                         4303436   \n3                             4676232                         4356242   \n4                             4741371                         4408474   \n...                               ...                             ...   \n18067                         9224369                         8056253   \n18068                         9385132                         8264833   \n18069                         9543409                         8473475   \n18070                         9709135                         8691594   \n18071                         9882718                         8915328   \n\n       Population older than 15 years  Population older than 18 years  ...  \\\n0                             4411609                         3946595  ...   \n1                             4466098                         3993640  ...   \n2                             4522464                         4041439  ...   \n3                             4578167                         4088379  ...   \n4                             4633229                         4136116  ...   \n...                               ...                             ...  ...   \n18067                         8532951                         7476399  ...   \n18068                         8760331                         7689502  ...   \n18069                         8986973                         7909270  ...   \n18070                         9220402                         8139472  ...   \n18071                         9453006                         8371027  ...   \n\n       Population aged 15 to 19 years  Population aged 20 to 29 years  \\\n0                              757113                         1241348   \n1                              768616                         1260904   \n2                              781411                         1280288   \n3                              794308                         1298803   \n4                              806216                         1316768   \n...                               ...                             ...   \n18067                         1690993                         2422873   \n18068                         1732035                         2474502   \n18069                         1759205                         2546398   \n18070                         1776240                         2640150   \n18071                         1787185                         2749147   \n\n       Population aged 30 to 39 years  Population aged 40 to 49 years  \\\n0                              909953                          661807   \n1                              922765                          667015   \n2                              935638                          672491   \n3                              948321                          678064   \n4                              961484                          684153   \n...                               ...                             ...   \n18067                         2021973                         1088878   \n18068                         2058928                         1155537   \n18069                         2085636                         1220993   \n18070                         2101852                         1291333   \n18071                         2104434                         1371770   \n\n       Population aged 50 to 59 years  Population aged 60 to 69 years  \\\n0                              467170                          271905   \n1                              468881                          273286   \n2                              470898                          274852   \n3                              472969                          276577   \n4                              475117                          278210   \n...                               ...                             ...   \n18067                          570769                          467775   \n18068                          585529                          476214   \n18069                          606266                          479827   \n18070                          631541                          476507   \n18071                          658660                          468255   \n\n       Population aged 70 to 79 years  Population aged 80 to 89 years  \\\n0                               92691                            9499   \n1                               94358                           10155   \n2                               96026                           10721   \n3                               97705                           11254   \n4                               99298                           11793   \n...                               ...                             ...   \n18067                          200927                           59789   \n18068                          208587                           59700   \n18069                          218763                           60339   \n18070                          231604                           61546   \n18071                          241961                           62227   \n\n       Population aged 90 to 99 years  Population older than 100 years  \n0                                 123                              0.0  \n1                                 118                              0.0  \n2                                 139                              0.0  \n3                                 166                              0.0  \n4                                 190                              0.0  \n...                               ...                              ...  \n18067                            8974                            222.0  \n18068                            9299                            228.0  \n18069                            9546                            235.0  \n18070                            9629                            240.0  \n18071                            9367                            237.0  \n\n[18072 rows x 24 columns]",
      "text/html": "<div>\n<style scoped>\n    .dataframe tbody tr th:only-of-type {\n        vertical-align: middle;\n    }\n\n    .dataframe tbody tr th {\n        vertical-align: top;\n    }\n\n    .dataframe thead th {\n        text-align: right;\n    }\n</style>\n<table border=\"1\" class=\"dataframe\">\n  <thead>\n    <tr style=\"text-align: right;\">\n      <th></th>\n      <th>Country name</th>\n      <th>Year</th>\n      <th>Population</th>\n      <th>Population of children under the age of 1</th>\n      <th>Population of children under the age of 5</th>\n      <th>Population of children under the age of 15</th>\n      <th>Population under the age of 25</th>\n      <th>Population aged 15 to 64 years</th>\n      <th>Population older than 15 years</th>\n      <th>Population older than 18 years</th>\n      <th>...</th>\n      <th>Population aged 15 to 19 years</th>\n      <th>Population aged 20 to 29 years</th>\n      <th>Population aged 30 to 39 years</th>\n      <th>Population aged 40 to 49 years</th>\n      <th>Population aged 50 to 59 years</th>\n      <th>Population aged 60 to 69 years</th>\n      <th>Population aged 70 to 79 years</th>\n      <th>Population aged 80 to 89 years</th>\n      <th>Population aged 90 to 99 years</th>\n      <th>Population older than 100 years</th>\n    </tr>\n  </thead>\n  <tbody>\n    <tr>\n      <th>0</th>\n      <td>Afghanistan</td>\n      <td>1950</td>\n      <td>7480464</td>\n      <td>301735.0</td>\n      <td>1248282</td>\n      <td>3068855</td>\n      <td>4494349</td>\n      <td>4198587</td>\n      <td>4411609</td>\n      <td>3946595</td>\n      <td>...</td>\n      <td>757113</td>\n      <td>1241348</td>\n      <td>909953</td>\n      <td>661807</td>\n      <td>467170</td>\n      <td>271905</td>\n      <td>92691</td>\n      <td>9499</td>\n      <td>123</td>\n      <td>0.0</td>\n    </tr>\n    <tr>\n      <th>1</th>\n      <td>Afghanistan</td>\n      <td>1951</td>\n      <td>7571542</td>\n      <td>299368.0</td>\n      <td>1246857</td>\n      <td>3105444</td>\n      <td>4552138</td>\n      <td>4250002</td>\n      <td>4466098</td>\n      <td>3993640</td>\n      <td>...</td>\n      <td>768616</td>\n      <td>1260904</td>\n      <td>922765</td>\n      <td>667015</td>\n      <td>468881</td>\n      <td>273286</td>\n      <td>94358</td>\n      <td>10155</td>\n      <td>118</td>\n      <td>0.0</td>\n    </tr>\n    <tr>\n      <th>2</th>\n      <td>Afghanistan</td>\n      <td>1952</td>\n      <td>7667534</td>\n      <td>305393.0</td>\n      <td>1248220</td>\n      <td>3145070</td>\n      <td>4613604</td>\n      <td>4303436</td>\n      <td>4522464</td>\n      <td>4041439</td>\n      <td>...</td>\n      <td>781411</td>\n      <td>1280288</td>\n      <td>935638</td>\n      <td>672491</td>\n      <td>470898</td>\n      <td>274852</td>\n      <td>96026</td>\n      <td>10721</td>\n      <td>139</td>\n      <td>0.0</td>\n    </tr>\n    <tr>\n      <th>3</th>\n      <td>Afghanistan</td>\n      <td>1953</td>\n      <td>7764549</td>\n      <td>311574.0</td>\n      <td>1254725</td>\n      <td>3186382</td>\n      <td>4676232</td>\n      <td>4356242</td>\n      <td>4578167</td>\n      <td>4088379</td>\n      <td>...</td>\n      <td>794308</td>\n      <td>1298803</td>\n      <td>948321</td>\n      <td>678064</td>\n      <td>472969</td>\n      <td>276577</td>\n      <td>97705</td>\n      <td>11254</td>\n      <td>166</td>\n      <td>0.0</td>\n    </tr>\n    <tr>\n      <th>4</th>\n      <td>Afghanistan</td>\n      <td>1954</td>\n      <td>7864289</td>\n      <td>317584.0</td>\n      <td>1267817</td>\n      <td>3231060</td>\n      <td>4741371</td>\n      <td>4408474</td>\n      <td>4633229</td>\n      <td>4136116</td>\n      <td>...</td>\n      <td>806216</td>\n      <td>1316768</td>\n      <td>961484</td>\n      <td>684153</td>\n      <td>475117</td>\n      <td>278210</td>\n      <td>99298</td>\n      <td>11793</td>\n      <td>190</td>\n      <td>0.0</td>\n    </tr>\n    <tr>\n      <th>...</th>\n      <td>...</td>\n      <td>...</td>\n      <td>...</td>\n      <td>...</td>\n      <td>...</td>\n      <td>...</td>\n      <td>...</td>\n      <td>...</td>\n      <td>...</td>\n      <td>...</td>\n      <td>...</td>\n      <td>...</td>\n      <td>...</td>\n      <td>...</td>\n      <td>...</td>\n      <td>...</td>\n      <td>...</td>\n      <td>...</td>\n      <td>...</td>\n      <td>...</td>\n      <td>...</td>\n    </tr>\n    <tr>\n      <th>18067</th>\n      <td>Zimbabwe</td>\n      <td>2017</td>\n      <td>14751101</td>\n      <td>464521.0</td>\n      <td>2287404</td>\n      <td>6217928</td>\n      <td>9224369</td>\n      <td>8056253</td>\n      <td>8532951</td>\n      <td>7476399</td>\n      <td>...</td>\n      <td>1690993</td>\n      <td>2422873</td>\n      <td>2021973</td>\n      <td>1088878</td>\n      <td>570769</td>\n      <td>467775</td>\n      <td>200927</td>\n      <td>59789</td>\n      <td>8974</td>\n      <td>222.0</td>\n    </tr>\n    <tr>\n      <th>18068</th>\n      <td>Zimbabwe</td>\n      <td>2018</td>\n      <td>15052191</td>\n      <td>466524.0</td>\n      <td>2283576</td>\n      <td>6291632</td>\n      <td>9385132</td>\n      <td>8264833</td>\n      <td>8760331</td>\n      <td>7689502</td>\n      <td>...</td>\n      <td>1732035</td>\n      <td>2474502</td>\n      <td>2058928</td>\n      <td>1155537</td>\n      <td>585529</td>\n      <td>476214</td>\n      <td>208587</td>\n      <td>59700</td>\n      <td>9299</td>\n      <td>228.0</td>\n    </tr>\n    <tr>\n      <th>18069</th>\n      <td>Zimbabwe</td>\n      <td>2019</td>\n      <td>15354606</td>\n      <td>468844.0</td>\n      <td>2281740</td>\n      <td>6367398</td>\n      <td>9543409</td>\n      <td>8473475</td>\n      <td>8986973</td>\n      <td>7909270</td>\n      <td>...</td>\n      <td>1759205</td>\n      <td>2546398</td>\n      <td>2085636</td>\n      <td>1220993</td>\n      <td>606266</td>\n      <td>479827</td>\n      <td>218763</td>\n      <td>60339</td>\n      <td>9546</td>\n      <td>235.0</td>\n    </tr>\n    <tr>\n      <th>18070</th>\n      <td>Zimbabwe</td>\n      <td>2020</td>\n      <td>15669663</td>\n      <td>470340.0</td>\n      <td>2287105</td>\n      <td>6449021</td>\n      <td>9709135</td>\n      <td>8691594</td>\n      <td>9220402</td>\n      <td>8139472</td>\n      <td>...</td>\n      <td>1776240</td>\n      <td>2640150</td>\n      <td>2101852</td>\n      <td>1291333</td>\n      <td>631541</td>\n      <td>476507</td>\n      <td>231604</td>\n      <td>61546</td>\n      <td>9629</td>\n      <td>240.0</td>\n    </tr>\n    <tr>\n      <th>18071</th>\n      <td>Zimbabwe</td>\n      <td>2021</td>\n      <td>15993525</td>\n      <td>472443.0</td>\n      <td>2299712</td>\n      <td>6540282</td>\n      <td>9882718</td>\n      <td>8915328</td>\n      <td>9453006</td>\n      <td>8371027</td>\n      <td>...</td>\n      <td>1787185</td>\n      <td>2749147</td>\n      <td>2104434</td>\n      <td>1371770</td>\n      <td>658660</td>\n      <td>468255</td>\n      <td>241961</td>\n      <td>62227</td>\n      <td>9367</td>\n      <td>237.0</td>\n    </tr>\n  </tbody>\n</table>\n<p>18072 rows × 24 columns</p>\n</div>"
     },
     "execution_count": 2,
     "metadata": {},
     "output_type": "execute_result"
    }
   ],
   "source": [
    "df = pd.read_csv('../数据/population.csv')\n",
    "df"
   ],
   "metadata": {
    "collapsed": false,
    "ExecuteTime": {
     "end_time": "2023-06-15T23:48:08.414815400Z",
     "start_time": "2023-06-15T23:48:08.350815Z"
    }
   }
  },
  {
   "cell_type": "code",
   "execution_count": 3,
   "outputs": [],
   "source": [
    "for country in ['China', 'World', 'India']:\n",
    "    df = df[df['Country name'] == country]\n",
    "    df.to_excel(f'{country}.xlsx', index=False)"
   ],
   "metadata": {
    "collapsed": false,
    "ExecuteTime": {
     "end_time": "2023-06-15T23:56:20.508625700Z",
     "start_time": "2023-06-15T23:56:20.151335400Z"
    }
   }
  },
  {
   "cell_type": "code",
   "execution_count": null,
   "outputs": [],
   "source": [],
   "metadata": {
    "collapsed": false
   }
  }
 ],
 "metadata": {
  "kernelspec": {
   "display_name": "Python 3",
   "language": "python",
   "name": "python3"
  },
  "language_info": {
   "codemirror_mode": {
    "name": "ipython",
    "version": 2
   },
   "file_extension": ".py",
   "mimetype": "text/x-python",
   "name": "python",
   "nbconvert_exporter": "python",
   "pygments_lexer": "ipython2",
   "version": "2.7.6"
  }
 },
 "nbformat": 4,
 "nbformat_minor": 0
}
